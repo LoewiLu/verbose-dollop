{
 "cells": [
  {
   "cell_type": "markdown",
   "metadata": {},
   "source": [
    "# Floor Puzzle "
   ]
  },
  {
   "cell_type": "markdown",
   "metadata": {},
   "source": [
    "\n",
    "#### Hopper, Kay, Liskov, Perlis, and Ritchie live on different floors of a five-floor apartment building. \n",
    "\n",
    "#### Hopper does not live on the top floor. \n",
    "#### Kay does not live on the bottom floor. \n",
    "#### Liskov does not live on either the top or the bottom floor. \n",
    "#### Perlis lives on a higher floor than does Kay. \n",
    "#### Ritchie does not live on a floor adjacent to Liskov's. \n",
    "#### Liskov does not live on a floor adjacent to Kay's. \n",
    "\n",
    "#### Where does everyone live?  \n",
    "\n",
    "#### Write a function floor_puzzle() \n",
    "#### that returns a list of five floor numbers denoting the floor of Hopper, Kay, Liskov, Perlis, and Ritchie."
   ]
  },
  {
   "cell_type": "markdown",
   "metadata": {},
   "source": [
    "sudo code:  \n",
    "    \n",
    "etages = [0,1,2,3,4]  \n",
    "\n",
    "Hopper != 4  \n",
    "Kay != 0  \n",
    "Liskov != 0 and Liskov != 4  \n",
    "Perlis > Kay  \n",
    "abs(Ritchie - Liskov) != 1  \n",
    "abs(Liskov - Kay) != 1  \n"
   ]
  },
  {
   "cell_type": "code",
   "execution_count": 2,
   "metadata": {},
   "outputs": [],
   "source": [
    "import itertools\n",
    "\n",
    "def floor_puzzle():\n",
    "\n",
    "    for Hopper, Kay, Liskov, Perlis, Ritchie in itertools.permutations([0,1,2,3,4]):\n",
    "        if Hopper != 4 and\\\n",
    "            Kay != 0 and\\\n",
    "            Liskov != 0 and Liskov != 4 and\\\n",
    "            Perlis > Kay and\\\n",
    "            abs(Ritchie - Liskov) != 1 and\\\n",
    "            abs(Liskov - Kay) != 1:\n",
    "        \n",
    "            return [Hopper, Kay, Liskov, Perlis, Ritchie] "
   ]
  },
  {
   "cell_type": "code",
   "execution_count": 3,
   "metadata": {},
   "outputs": [
    {
     "data": {
      "text/plain": [
       "[2, 1, 3, 4, 0]"
      ]
     },
     "execution_count": 3,
     "metadata": {},
     "output_type": "execute_result"
    }
   ],
   "source": [
    "floor_puzzle()    "
   ]
  },
  {
   "cell_type": "markdown",
   "metadata": {},
   "source": [
    "### Spruce up!"
   ]
  },
  {
   "cell_type": "code",
   "execution_count": 25,
   "metadata": {},
   "outputs": [],
   "source": [
    "import itertools\n",
    "\n",
    "def floor_puzzle():\n",
    "    etages = bottom, _, _, _, top  = [0, 1, 2, 3, 4]\n",
    "    orderings = list(itertools.permutations(etages))\n",
    "    for Hopper, Kay, Liskov, Perlis, Ritchie in orderings:\n",
    "        if (Hopper is not top\n",
    "            and Kay is not bottom\n",
    "            and Liskov is not top \n",
    "            and Liskov is not bottom \n",
    "            and Perlis > Kay\n",
    "            and abs(Ritchie - Liskov) > 1\n",
    "            and abs(Liskov - Kay) > 1):\n",
    "        \n",
    "            return [Hopper, Kay, Liskov, Perlis, Ritchie] "
   ]
  },
  {
   "cell_type": "code",
   "execution_count": 26,
   "metadata": {},
   "outputs": [
    {
     "data": {
      "text/plain": [
       "[2, 1, 3, 4, 0]"
      ]
     },
     "execution_count": 26,
     "metadata": {},
     "output_type": "execute_result"
    }
   ],
   "source": [
    "floor_puzzle()           "
   ]
  },
  {
   "cell_type": "code",
   "execution_count": 32,
   "metadata": {},
   "outputs": [
    {
     "name": "stdout",
     "output_type": "stream",
     "text": [
      "Ritchie lives in the 0 floor.\n",
      "    Kay lives in the 1 floor.\n",
      " Hopper lives in the 2 floor.\n",
      " Liskov lives in the 3 floor.\n",
      " Perlis lives in the 4 floor.\n"
     ]
    }
   ],
   "source": [
    "names = ['Hopper', 'Kay', 'Liskov', 'Perlis', 'Ritchie']\n",
    "floors = floor_puzzle() \n",
    "\n",
    "for floor, name in sorted(zip(floors, names)):\n",
    "    print('%7s lives in the %d floor.'%(name, floor))"
   ]
  },
  {
   "cell_type": "code",
   "execution_count": null,
   "metadata": {},
   "outputs": [],
   "source": []
  },
  {
   "cell_type": "code",
   "execution_count": null,
   "metadata": {},
   "outputs": [],
   "source": []
  }
 ],
 "metadata": {
  "kernelspec": {
   "display_name": "Python 3",
   "language": "python",
   "name": "python3"
  },
  "language_info": {
   "codemirror_mode": {
    "name": "ipython",
    "version": 3
   },
   "file_extension": ".py",
   "mimetype": "text/x-python",
   "name": "python",
   "nbconvert_exporter": "python",
   "pygments_lexer": "ipython3",
   "version": "3.6.5"
  }
 },
 "nbformat": 4,
 "nbformat_minor": 2
}
