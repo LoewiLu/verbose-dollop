{
 "cells": [
  {
   "cell_type": "markdown",
   "metadata": {},
   "source": [
    "# Zebra Puzzle\n",
    "\n",
    "1 There are five houses.\n",
    "\n",
    "2 The Englishman lives in the red house.\n",
    "\n",
    "3 The Spaniard owns the dog.\n",
    "\n",
    "4 Coffee is drunk in the green house.\n",
    "\n",
    "5 The Ukrainian drinks tea.\n",
    "\n",
    "6 The green house is immediately to the right of the ivory house.\n",
    "\n",
    "7 The Old Gold smoker owns snails.\n",
    "\n",
    "8 Kools are smoked in the yellow house.\n",
    "\n",
    "9 Milk is drunk in the middle house.\n",
    "\n",
    "10 The Norwegian lives in the first house.\n",
    "\n",
    "11 The man who smokes Chesterfields lives in the house next to the man with the fox.\n",
    "\n",
    "12 Kools are smoked in a house next to the house where the horse is kept.\n",
    "\n",
    "13 The Lucky Strike smoker drinks orange juice.\n",
    "\n",
    "14 The Japanese smokes Parliaments.\n",
    "\n",
    "15 The Norwegian lives next to the blue house.\n",
    "\n",
    "Who drinks water? Who owns the zebra?\n",
    "\n",
    "Each house is painted a different color, and their inhabitants are of different nationalities, own different pets, drink different beverages and smoke different brands of American cigarettes.\n"
   ]
  },
  {
   "cell_type": "markdown",
   "metadata": {},
   "source": [
    "### sudo code"
   ]
  },
  {
   "cell_type": "code",
   "execution_count": null,
   "metadata": {},
   "outputs": [],
   "source": [
    "\n",
    "#1 There are five houses.\n",
    "from itertools import permutations\n",
    "houses = [first, _, middle, _, _] = [1, 2, 3, 4, 5]\n",
    "house_order = list(permutations(houses))\n",
    "#2 The Englishman lives in the red house.\n",
    "if Englishman is red\n",
    "#3 The Spaniard owns the dog.\n",
    "if Spaniard is dog\n",
    "#4 Coffee is drunk in the green house.\n",
    "if Coffee is green\n",
    "#5 The Ukrainian drinks tea.\n",
    "if Ukrainian is tea\n",
    "#6 The green house is immediately to the right of the ivory house.\n",
    "def toright(h1, h2): return h1-h2 == 1\n",
    "if toright(green, ivory)\n",
    "#7 The Old Gold smoker owns snails.\n",
    "if OldGold is snails\n",
    "#8 Kools are smoked in the yellow house.\n",
    "if Kools is yellow\n",
    "#9 Milk is drunk in the middle house.\n",
    "if Milk is middle\n",
    "#10 The Norwegian lives in the first house.\n",
    "if Norwegian is first\n",
    "#11 The man who smokes Chesterfields lives in the house next to the man with the fox.\n",
    "def tonext(h1, h2): return abs(h1-h2) == 1\n",
    "if tonext(Chesterfields, fox) \n",
    "#12 Kools are smoked in a house next to the house where the horse is kept.\n",
    "if tonext(Kools, horse)\n",
    "#13 The Lucky Strike smoker drinks orange juice.\n",
    "if LuckyStrike is orangejuice\n",
    "#14 The Japanese smokes Parliaments.\n",
    "if Japanese is Parliaments\n",
    "#15 The Norwegian lives next to the blue house.\n",
    "if tonext(Norwegian, blue)\n",
    "#Who drinks water? Who owns the zebra?\n",
    "(Warter, zebra)\n"
   ]
  },
  {
   "cell_type": "code",
   "execution_count": null,
   "metadata": {},
   "outputs": [],
   "source": [
    "def toright(h1, h2): return h1-h2 == 1\n",
    "def tonext(h1, h2): return abs(h1-h2) == 1\n",
    "\n",
    "from itertools import permutations\n",
    "houses = [first, _, middle, _, _] = [1, 2, 3, 4, 5]\n",
    "house_order = list(permutations(houses))#1 \n",
    "\n",
    "for (red, green, ivory, yellow, blue) in house_order\n",
    "for (Englishman, Spaniard, Ukranian, Japanese, Norwegian) in house_order\n",
    "for (Coffee, Tea, Milk, Oj, Water) in house_order\n",
    "for (OldGold, Kools, Chesterfields, LuckyStrike, Parliaments) in house_order\n",
    "for (dog, snails, fox, horse, zebra) in house_order\n",
    "\n",
    "if Englishman is red #2\n",
    "if Spaniard is dog #3\n",
    "if Coffee is green #4\n",
    "if Ukrainian is tea #5\n",
    "if toright(green, ivory) #6\n",
    "if OldGold is snails #7\n",
    "if Kools is yellow #8\n",
    "if Milk is middle #9\n",
    "if Norwegian is first #10\n",
    "if tonext(Chesterfields, fox)  #11\n",
    "if tonext(Kools, horse) #12\n",
    "if LuckyStrike is Oj #13\n",
    "if Japanese is Parliaments #14\n",
    "if tonext(Norwegian, blue) #15"
   ]
  },
  {
   "cell_type": "markdown",
   "metadata": {},
   "source": [
    "### Code:"
   ]
  },
  {
   "cell_type": "code",
   "execution_count": 16,
   "metadata": {},
   "outputs": [],
   "source": [
    "def toright(h1, h2): return h1-h2 == 1\n",
    "def tonext(h1, h2): return abs(h1-h2) == 1\n",
    "\n",
    "from itertools import permutations\n",
    "houses = [first, _, middle, _, _] = [1, 2, 3, 4, 5]\n",
    "house_order = list(permutations(houses))#1 \n",
    "\n",
    "res = next((Water, zebra, Englishman, Spaniard, Ukranian, Japanese, Norwegian)\n",
    "for (red, green, ivory, yellow, blue) in house_order\n",
    "if toright(green, ivory) #6\n",
    "for (Englishman, Spaniard, Ukranian, Japanese, Norwegian) in house_order\n",
    "if Englishman is red #2\n",
    "if Norwegian is first #10\n",
    "if tonext(Norwegian, blue) #15\n",
    "for (Coffee, Tea, Milk, Oj, Water) in house_order\n",
    "if Coffee is green #4\n",
    "if Ukranian is Tea #5\n",
    "if Milk is middle #9\n",
    "for (OldGold, Kools, Chesterfields, LuckyStrike, Parliaments) in house_order\n",
    "if Kools is yellow #8\n",
    "if LuckyStrike is Oj #13\n",
    "if Japanese is Parliaments #14\n",
    "for (dog, snails, fox, horse, zebra) in house_order\n",
    "if Spaniard is dog #3\n",
    "if OldGold is snails #7\n",
    "if tonext(Chesterfields, fox)  #11\n",
    "if tonext(Kools, horse) #12\n",
    ")"
   ]
  },
  {
   "cell_type": "code",
   "execution_count": 17,
   "metadata": {},
   "outputs": [],
   "source": [
    "# res = (1, 5, 3, 4, 2, 5, 1)\n",
    "lst = ('Water', 'zebra', 'Englishman', 'Spaniard', 'Ukranian', 'Japanese','Norwegian')"
   ]
  },
  {
   "cell_type": "markdown",
   "metadata": {},
   "source": [
    "## Who drinks water? Who owns the zebra?\n"
   ]
  },
  {
   "cell_type": "code",
   "execution_count": 18,
   "metadata": {},
   "outputs": [
    {
     "name": "stdout",
     "output_type": "stream",
     "text": [
      "Japanese owns the zebra.\n",
      "Norwegian drinks water.\n"
     ]
    }
   ],
   "source": [
    "for x, y in zip(res[2:],lst[2:]):\n",
    "    if x == res[0]:\n",
    "        print(y + ' drinks water.')\n",
    "    if x == res[1]:\n",
    "        print(y + ' owns the zebra.')"
   ]
  },
  {
   "cell_type": "markdown",
   "metadata": {},
   "source": [
    "### time spend"
   ]
  },
  {
   "cell_type": "code",
   "execution_count": 19,
   "metadata": {},
   "outputs": [],
   "source": [
    "def toright(h1, h2): return h1-h2 == 1\n",
    "def tonext(h1, h2): return abs(h1-h2) == 1\n",
    "\n",
    "from itertools import permutations\n",
    "\n",
    "def zebra_puzzle():\n",
    "    houses = [first, _, middle, _, _] = [1, 2, 3, 4, 5]\n",
    "    house_order = list(permutations(houses))#1 \n",
    "    return next((Water, zebra, Englishman, Spaniard, Ukranian, Japanese, Norwegian)\n",
    "    for (red, green, ivory, yellow, blue) in house_order\n",
    "    if toright(green, ivory) #6\n",
    "    for (Englishman, Spaniard, Ukranian, Japanese, Norwegian) in house_order\n",
    "    if Englishman is red #2\n",
    "    if Norwegian is first #10\n",
    "    if tonext(Norwegian, blue) #15\n",
    "    for (Coffee, Tea, Milk, Oj, Water) in house_order\n",
    "    if Coffee is green #4\n",
    "    if Ukranian is Tea #5\n",
    "    if Milk is middle #9\n",
    "    for (OldGold, Kools, Chesterfields, LuckyStrike, Parliaments) in house_order\n",
    "    if Kools is yellow #8\n",
    "    if LuckyStrike is Oj #13\n",
    "    if Japanese is Parliaments #14\n",
    "    for (dog, snails, fox, horse, zebra) in house_order\n",
    "    if Spaniard is dog #3\n",
    "    if OldGold is snails #7\n",
    "    if tonext(Chesterfields, fox)  #11\n",
    "    if tonext(Kools, horse) #12\n",
    "    )"
   ]
  },
  {
   "cell_type": "code",
   "execution_count": 21,
   "metadata": {},
   "outputs": [
    {
     "data": {
      "text/plain": [
       "3.999999999892978e-06"
      ]
     },
     "execution_count": 21,
     "metadata": {},
     "output_type": "execute_result"
    }
   ],
   "source": [
    "import time\n",
    "def call_time(fn):\n",
    "    start_time = time.clock()\n",
    "    fn\n",
    "    end_time = time.clock()\n",
    "    return end_time - start_time\n",
    "\n",
    "call_time(zebra_puzzle())"
   ]
  },
  {
   "cell_type": "code",
   "execution_count": null,
   "metadata": {},
   "outputs": [],
   "source": []
  }
 ],
 "metadata": {
  "kernelspec": {
   "display_name": "Python 3",
   "language": "python",
   "name": "python3"
  },
  "language_info": {
   "codemirror_mode": {
    "name": "ipython",
    "version": 3
   },
   "file_extension": ".py",
   "mimetype": "text/x-python",
   "name": "python",
   "nbconvert_exporter": "python",
   "pygments_lexer": "ipython3",
   "version": "3.6.5"
  }
 },
 "nbformat": 4,
 "nbformat_minor": 2
}
