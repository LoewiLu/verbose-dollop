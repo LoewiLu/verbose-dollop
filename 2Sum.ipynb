{
 "cells": [
  {
   "cell_type": "markdown",
   "metadata": {},
   "source": [
    "# Given an array of integers, return indices of the two numbers such that they add up to a specific target.\n",
    "\n",
    "## You may assume that each input would have exactly one solution, and you may not use the same element twice.\n",
    "\n",
    "```\n",
    "Example:\n",
    "\n",
    "Given nums = [2, 7, 11, 15], target = 9,\n",
    "\n",
    "Because nums[0] + nums[1] = 2 + 7 = 9,\n",
    "return [0, 1].\n",
    "```"
   ]
  },
  {
   "cell_type": "code",
   "execution_count": 9,
   "metadata": {},
   "outputs": [],
   "source": [
    "from time import time "
   ]
  },
  {
   "cell_type": "markdown",
   "metadata": {},
   "source": [
    "# try 1 (只相邻有效 )\n",
    "**❌**"
   ]
  },
  {
   "cell_type": "code",
   "execution_count": 74,
   "metadata": {},
   "outputs": [],
   "source": [
    "def twoSum( nums, target):\n",
    "    \"\"\"\n",
    "    :type nums: List[int]\n",
    "    :type target: int\n",
    "    :rtype: List[int]\n",
    "    \"\"\"\n",
    "    lst = []\n",
    "    length = len(nums)    \n",
    "    for i in range(length,0,-1):\n",
    "        m = i-2\n",
    "        n = i-1    \n",
    "        if nums[m]+nums[n] == target:       \n",
    "            if m< 0 :\n",
    "                m = length + m\n",
    "            lst.append(m)\n",
    "            lst.append(n)            \n",
    "    return lst"
   ]
  },
  {
   "cell_type": "code",
   "execution_count": 75,
   "metadata": {},
   "outputs": [
    {
     "name": "stdout",
     "output_type": "stream",
     "text": [
      "testing...\n",
      "target is 6\n",
      "[2, 4, 11, 15] : [0, 1] right\n",
      "[2, 3, 4, 6] : [] wrong\n",
      "[6, 3, 3] : [1, 2] right\n",
      "[2, 2, 3, 3, 3, 4, 5, 6] : [3, 4, 2, 3] wrong\n"
     ]
    }
   ],
   "source": [
    "print('testing...')\n",
    "pipline = {\n",
    "    (2, 4, 11, 15):[0, 1],\n",
    "    (2,3,4,6):[0, 2],\n",
    "    (6,3,3):[1, 2],\n",
    "    (2,2,3,3,3, 4,5,6):[0, 1, 2, 3, 4, 5],\n",
    "    }\n",
    "\n",
    "target = 6\n",
    "print('target is %d'%target)\n",
    "for nums, result in pipline.items():\n",
    "    if twoSum(list(nums), target) == result:        \n",
    "        print(list(nums), ':',twoSum(list(nums), target),'right')\n",
    "    else:\n",
    "        print(list(nums), ':',twoSum(list(nums), target),'wrong')"
   ]
  },
  {
   "cell_type": "markdown",
   "metadata": {},
   "source": [
    "# try 2 (相同无效)\n",
    "**❌**"
   ]
  },
  {
   "cell_type": "code",
   "execution_count": 76,
   "metadata": {},
   "outputs": [],
   "source": [
    "def twoSum( nums, target):\n",
    "    lst = []\n",
    "    for i,num in enumerate(nums):\n",
    "        num1 = target - num\n",
    "        if num1 !=num and num1 in nums:\n",
    "            lst.append(i)    \n",
    "    return lst"
   ]
  },
  {
   "cell_type": "code",
   "execution_count": 77,
   "metadata": {},
   "outputs": [
    {
     "name": "stdout",
     "output_type": "stream",
     "text": [
      "testing...\n",
      "target is 6\n",
      "[2, 4, 11, 15] : [0, 1] right\n",
      "[2, 3, 4, 6] : [0, 2] right\n",
      "[6, 3, 3] : [] wrong\n",
      "[2, 2, 3, 3, 3, 4, 5, 6] : [0, 1, 5] wrong\n"
     ]
    }
   ],
   "source": [
    "print('testing...')\n",
    "pipline = {\n",
    "    (2, 4, 11, 15):[0, 1],\n",
    "    (2,3,4,6):[0, 2],\n",
    "    (6,3,3):[1, 2],\n",
    "    (2,2,3,3,3, 4,5,6):[0, 1, 2, 3, 4, 5],\n",
    "    }\n",
    "\n",
    "target = 6\n",
    "print('target is %d'%target)\n",
    "for nums, result in pipline.items():\n",
    "    if twoSum(list(nums), target) == result:        \n",
    "        print(list(nums), ':',twoSum(list(nums), target),'right')\n",
    "    else:\n",
    "        print(list(nums), ':',twoSum(list(nums), target),'wrong')"
   ]
  },
  {
   "cell_type": "markdown",
   "metadata": {},
   "source": [
    "# try3 (重复无效)\n",
    "**❌**"
   ]
  },
  {
   "cell_type": "code",
   "execution_count": 78,
   "metadata": {},
   "outputs": [],
   "source": [
    "def twoSum(nums, target):\n",
    "    dct = {}\n",
    "    for i, num in enumerate (nums):\n",
    "        num1 = target - num\n",
    "#        print(num,num1,dct)\n",
    "        if num1 in dct:\n",
    "            return [dct[num1],i]\n",
    "    \n",
    "        dct[num]=i"
   ]
  },
  {
   "cell_type": "code",
   "execution_count": 79,
   "metadata": {},
   "outputs": [
    {
     "name": "stdout",
     "output_type": "stream",
     "text": [
      "testing...\n",
      "target is 6\n",
      "[2, 4, 11, 15] : [0, 1] right\n",
      "[2, 3, 4, 6] : [0, 2] right\n",
      "[6, 3, 3] : [1, 2] right\n",
      "[2, 2, 3, 3, 3, 4, 5, 6] : [2, 3] wrong\n"
     ]
    }
   ],
   "source": [
    "print('testing...')\n",
    "pipline = {\n",
    "    (2, 4, 11, 15):[0, 1],\n",
    "    (2,3,4,6):[0, 2],\n",
    "    (6,3,3):[1, 2],\n",
    "    (2,2,3,3,3, 4,5,6):[0, 1, 2, 3, 4, 5],\n",
    "    }\n",
    "\n",
    "target = 6\n",
    "print('target is %d'%target)\n",
    "for nums, result in pipline.items():\n",
    "    if twoSum(list(nums), target) == result:        \n",
    "        print(list(nums), ':',twoSum(list(nums), target),'right')\n",
    "    else:\n",
    "        print(list(nums), ':',twoSum(list(nums), target),'wrong')"
   ]
  },
  {
   "cell_type": "markdown",
   "metadata": {},
   "source": [
    "# try4 \n",
    "✅"
   ]
  },
  {
   "cell_type": "code",
   "execution_count": 80,
   "metadata": {},
   "outputs": [],
   "source": [
    "def twoSum(nums, target):\n",
    "\n",
    "    lst = []\n",
    "    length = len(nums)\n",
    "\n",
    "    for i,num in enumerate(nums):\n",
    "        num1 = target - num    \n",
    "        if nums.count(num1) ==1 :\n",
    "            if nums.index(num1) !=i and num1 in nums :\n",
    "                lst.append(i) \n",
    "        if nums.count(num1) >1 :\n",
    "            if num1 in nums :\n",
    "                 lst.append(i) \n",
    "\n",
    "    return lst\n"
   ]
  },
  {
   "cell_type": "code",
   "execution_count": 81,
   "metadata": {
    "scrolled": true
   },
   "outputs": [
    {
     "name": "stdout",
     "output_type": "stream",
     "text": [
      "testing...\n",
      "target is 6\n",
      "[2, 4, 11, 15] : [0, 1] right\n",
      "[2, 3, 4, 6] : [0, 2] right\n",
      "[6, 3, 3] : [1, 2] right\n",
      "[2, 2, 3, 3, 3, 4, 5, 6] : [0, 1, 2, 3, 4, 5] right\n"
     ]
    }
   ],
   "source": [
    "print('testing...')\n",
    "pipline = {\n",
    "    (2, 4, 11, 15):[0, 1],\n",
    "    (2,3,4,6):[0, 2],\n",
    "    (6,3,3):[1, 2],\n",
    "    (2,2,3,3,3, 4,5,6):[0, 1, 2, 3, 4, 5],\n",
    "    }\n",
    "\n",
    "target = 6\n",
    "print('target is %d'%target)\n",
    "for nums, result in pipline.items():\n",
    "    if twoSum(list(nums), target) == result:        \n",
    "        print(list(nums), ':',twoSum(list(nums), target),'right')\n",
    "    else:\n",
    "        print(list(nums), ':',twoSum(list(nums), target),'wrong')"
   ]
  },
  {
   "cell_type": "markdown",
   "metadata": {},
   "source": [
    "# try 5"
   ]
  },
  {
   "cell_type": "code",
   "execution_count": null,
   "metadata": {},
   "outputs": [],
   "source": []
  }
 ],
 "metadata": {
  "kernelspec": {
   "display_name": "Python 3",
   "language": "python",
   "name": "python3"
  },
  "language_info": {
   "codemirror_mode": {
    "name": "ipython",
    "version": 3
   },
   "file_extension": ".py",
   "mimetype": "text/x-python",
   "name": "python",
   "nbconvert_exporter": "python",
   "pygments_lexer": "ipython3",
   "version": "3.6.5"
  }
 },
 "nbformat": 4,
 "nbformat_minor": 2
}
