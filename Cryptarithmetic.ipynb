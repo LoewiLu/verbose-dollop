{
 "cells": [
  {
   "cell_type": "markdown",
   "metadata": {},
   "source": [
    "# Cryptarithmetic"
   ]
  },
  {
   "cell_type": "markdown",
   "metadata": {},
   "source": [
    "for example:  \n",
    "  \n",
    "  \n",
    "'ODD + ODD == EVEN'  \n",
    "'233+233 == 4041'✅  \n",
    "'011 + 011 == 2324'❌"
   ]
  },
  {
   "cell_type": "markdown",
   "metadata": {},
   "source": [
    "sudo code:\n",
    "    \n",
    "\n",
    "table = str.maketrans('ODEVN','01234' ))  \n",
    "x = formula.translate(table)  \n",
    "\n",
    "if eval(x) is True:   \n",
    "    return x  "
   ]
  },
  {
   "cell_type": "code",
   "execution_count": 1,
   "metadata": {},
   "outputs": [],
   "source": [
    "import re, itertools"
   ]
  },
  {
   "cell_type": "code",
   "execution_count": 10,
   "metadata": {},
   "outputs": [],
   "source": [
    "def valid(f) -> bool:\n",
    "    try:\n",
    "        return not re.search('\\b0[0-9]',f) and eval(f) #not False and True\n",
    "    except:\n",
    "        return False\n",
    "        "
   ]
  },
  {
   "cell_type": "code",
   "execution_count": 11,
   "metadata": {},
   "outputs": [],
   "source": [
    "def fill_in(formula): #-> generator \n",
    "    letters = ''.join(set(re.findall('[A-Z]',formula)))\n",
    "    \n",
    "    for _ in itertools.permutations('0123456789',len(letters)):\n",
    "        table = str.maketrans(letters, ''.join(_)) # ('ABC' , ('0', '1', '2') ->'012')\n",
    "        yield formula.translate(table)\n",
    "    "
   ]
  },
  {
   "cell_type": "code",
   "execution_count": 12,
   "metadata": {},
   "outputs": [],
   "source": [
    "def solve(formula) -> str:\n",
    "    for f in fill_in(formula):\n",
    "        if valid(f):\n",
    "            return f"
   ]
  },
  {
   "cell_type": "code",
   "execution_count": 13,
   "metadata": {},
   "outputs": [],
   "source": [
    "examples = '''TWO + TWO == FOUR\n",
    "A**2 + B**2 == C**2\n",
    "A**2 + BE**2 == BY**2\n",
    "X/X==X\n",
    "A**N + B**N  == C**N and N>1\n",
    "ATOM**0.5 == A + TO + M\n",
    "GLITTERS is not GOLD\n",
    "ONE < TWO and FOUR < FIVE\n",
    "ONE < TWO < THREE\n",
    "sum(range(AA))== BB\n",
    "sum(range(DAD))== BOBO\n",
    "ODD + ODD == EVEN\n",
    "RAMN == R**3 + RM**3 == N**3 + RX**3\n",
    "PLUTO not in set([PLANETS])'''.splitlines()  "
   ]
  },
  {
   "cell_type": "code",
   "execution_count": 14,
   "metadata": {},
   "outputs": [],
   "source": [
    "import time"
   ]
  },
  {
   "cell_type": "code",
   "execution_count": 38,
   "metadata": {},
   "outputs": [],
   "source": [
    "def timedcall(fn, *args):\n",
    "    t0 = time.clock()\n",
    "    result = fn(*args)\n",
    "    t1 = time.clock()\n",
    "    return t1-t0, result\n",
    "\n",
    "def test():\n",
    "    t0 = time.clock()\n",
    "    for example in examples:\n",
    "        print()\n",
    "        print(14*' ', example)\n",
    "        print('%6.4f sec:    %s '%timedcall(solve, example))\n",
    "    print()\n",
    "    print('%6.4f tot.'%(time.clock()-t0))"
   ]
  },
  {
   "cell_type": "code",
   "execution_count": 39,
   "metadata": {},
   "outputs": [
    {
     "name": "stdout",
     "output_type": "stream",
     "text": [
      "\n",
      "               TWO + TWO == FOUR\n",
      "0.5060 sec:    765 + 765 == 1530 \n",
      "\n",
      "               A**2 + B**2 == C**2\n",
      "0.0034 sec:    3**2 + 4**2 == 5**2 \n",
      "\n",
      "               A**2 + BE**2 == BY**2\n",
      "0.0354 sec:    5**2 + 12**2 == 13**2 \n",
      "\n",
      "               X/X==X\n",
      "0.0001 sec:    1/1==1 \n",
      "\n",
      "               A**N + B**N  == C**N and N>1\n",
      "0.0275 sec:    3**2 + 4**2  == 5**2 and 2>1 \n",
      "\n",
      "               ATOM**0.5 == A + TO + M\n",
      "0.0061 sec:    1296**0.5 == 1 + 29 + 6 \n",
      "\n",
      "               GLITTERS is not GOLD\n",
      "0.0001 sec:    67544120 is not 6873 \n",
      "\n",
      "               ONE < TWO and FOUR < FIVE\n",
      "0.0002 sec:    692 < 756 and 1604 < 1832 \n",
      "\n",
      "               ONE < TWO < THREE\n",
      "0.0003 sec:    461 < 534 < 50211 \n",
      "\n",
      "               sum(range(AA))== BB\n",
      "0.0003 sec:    sum(range(11))== 55 \n",
      "\n",
      "               sum(range(DAD))== BOBO\n",
      "0.0978 sec:    None \n",
      "\n",
      "               ODD + ODD == EVEN\n",
      "0.0353 sec:    655 + 655 == 1310 \n",
      "\n",
      "               RAMN == R**3 + RM**3 == N**3 + RX**3\n",
      "0.3346 sec:    1729 == 1**3 + 12**3 == 9**3 + 10**3 \n",
      "\n",
      "               PLUTO not in set([PLANETS])\n",
      "0.0001 sec:    67128 not in set([6705423]) \n",
      "\n",
      "1.0501 tot.\n",
      "         757784 function calls in 1.026 seconds\n",
      "\n",
      "   Ordered by: standard name\n",
      "\n",
      "   ncalls  tottime  percall  cumtime  percall filename:lineno(function)\n",
      "    83579    0.051    0.000    0.855    0.000 <ipython-input-10-425384a5342c>:1(valid)\n",
      "    83593    0.066    0.000    0.162    0.000 <ipython-input-11-26a8bcaf22a6>:1(fill_in)\n",
      "       14    0.028    0.002    1.044    0.075 <ipython-input-12-0c688df8797a>:1(solve)\n",
      "       14    0.000    0.000    1.045    0.075 <ipython-input-38-5cc70311a468>:1(timedcall)\n",
      "        1    0.000    0.000    1.047    1.047 <ipython-input-38-5cc70311a468>:7(test)\n",
      "        1    0.000    0.000    0.000    0.000 <string>:1(<module>)\n",
      "      104    0.000    0.000    0.002    0.000 iostream.py:195(schedule)\n",
      "      101    0.000    0.000    0.000    0.000 iostream.py:300(_is_master_process)\n",
      "      101    0.000    0.000    0.000    0.000 iostream.py:313(_schedule_flush)\n",
      "      101    0.000    0.000    0.002    0.000 iostream.py:366(write)\n",
      "      104    0.000    0.000    0.000    0.000 iostream.py:93(_event_pipe)\n",
      "    83579    0.035    0.000    0.094    0.000 re.py:179(search)\n",
      "       14    0.000    0.000    0.000    0.000 re.py:214(findall)\n",
      "    83593    0.030    0.000    0.030    0.000 re.py:286(_compile)\n",
      "      104    0.001    0.000    0.001    0.000 socket.py:333(send)\n",
      "      104    0.000    0.000    0.000    0.000 threading.py:1062(_wait_for_tstate_lock)\n",
      "      104    0.000    0.000    0.000    0.000 threading.py:1104(is_alive)\n",
      "      104    0.000    0.000    0.000    0.000 threading.py:506(is_set)\n",
      "    83579    0.665    0.000    0.710    0.000 {built-in method builtins.eval}\n",
      "        1    0.000    0.000    1.047    1.047 {built-in method builtins.exec}\n",
      "      101    0.000    0.000    0.000    0.000 {built-in method builtins.isinstance}\n",
      "       14    0.000    0.000    0.000    0.000 {built-in method builtins.len}\n",
      "       44    0.000    0.000    0.002    0.000 {built-in method builtins.print}\n",
      "     4046    0.024    0.000    0.024    0.000 {built-in method builtins.sum}\n",
      "    83579    0.033    0.000    0.033    0.000 {built-in method maketrans}\n",
      "      101    0.000    0.000    0.000    0.000 {built-in method posix.getpid}\n",
      "       30    0.000    0.000    0.000    0.000 {built-in method time.clock}\n",
      "      104    0.000    0.000    0.000    0.000 {method 'acquire' of '_thread.lock' objects}\n",
      "      104    0.000    0.000    0.000    0.000 {method 'append' of 'collections.deque' objects}\n",
      "        1    0.000    0.000    0.000    0.000 {method 'disable' of '_lsprof.Profiler' objects}\n",
      "       14    0.000    0.000    0.000    0.000 {method 'findall' of '_sre.SRE_Pattern' objects}\n",
      "    83593    0.015    0.000    0.015    0.000 {method 'join' of 'str' objects}\n",
      "    83579    0.028    0.000    0.028    0.000 {method 'search' of '_sre.SRE_Pattern' objects}\n",
      "    83579    0.048    0.000    0.048    0.000 {method 'translate' of 'str' objects}\n",
      "\n",
      "\n"
     ]
    }
   ],
   "source": [
    "import cProfile\n",
    "\n",
    "cProfile.run('test()')  "
   ]
  },
  {
   "cell_type": "markdown",
   "metadata": {},
   "source": [
    "---------"
   ]
  },
  {
   "cell_type": "markdown",
   "metadata": {},
   "source": [
    "## Speed UP!"
   ]
  },
  {
   "cell_type": "code",
   "execution_count": 17,
   "metadata": {},
   "outputs": [],
   "source": [
    "def compile_word(word):\n",
    "    \"\"\"Compile a word of uppercase letters as numeric digits.\n",
    "    E.g., compile_word('YOU') => '(1*U+10*O+100*Y)'\n",
    "    Non-uppercase words unchanged: compile_word('+') => '+'\"\"\"\n",
    "    if word.isupper():\n",
    "        terms = [('%s*%s'%(10**i, w)) for i, w in enumerate(word[::-1])]\n",
    "        return '(' + '+'.join(terms) + ')'\n",
    "    else:\n",
    "        return word"
   ]
  },
  {
   "cell_type": "code",
   "execution_count": 18,
   "metadata": {},
   "outputs": [
    {
     "data": {
      "text/plain": [
       "'(1*U+10*O+100*Y)'"
      ]
     },
     "execution_count": 18,
     "metadata": {},
     "output_type": "execute_result"
    }
   ],
   "source": [
    "compile_word('YOU')"
   ]
  },
  {
   "cell_type": "code",
   "execution_count": 28,
   "metadata": {},
   "outputs": [],
   "source": [
    "def compile_formula(formula, verbose = False):\n",
    "    letters = ''.join(set(re.findall('[A-Z]', formula)))\n",
    "    parms = ', '.join(letters)\n",
    "    tokens = map(compile_word, re.split('([A-Z]+)', formula))\n",
    "    body = ''.join(tokens)\n",
    "    f = 'lambda %s: %s' %(parms, body)\n",
    "    if verbose: print(f)\n",
    "    return eval(f),letters"
   ]
  },
  {
   "cell_type": "code",
   "execution_count": 29,
   "metadata": {},
   "outputs": [
    {
     "name": "stdout",
     "output_type": "stream",
     "text": [
      "lambda A, B, Y, E: (1*A)**2 + (1*E+10*B)**2 == (1*Y+10*B)**2\n"
     ]
    },
    {
     "data": {
      "text/plain": [
       "(<function __main__.<lambda>(A, B, Y, E)>, 'ABYE')"
      ]
     },
     "execution_count": 29,
     "metadata": {},
     "output_type": "execute_result"
    }
   ],
   "source": [
    "compile_formula('A**2 + BE**2 == BY**2', True)"
   ]
  },
  {
   "cell_type": "code",
   "execution_count": 32,
   "metadata": {},
   "outputs": [],
   "source": [
    "def faster_solve(formula):\n",
    "    f, letters = compile_formula(formula)\n",
    "    for digits in itertools.permutations((1,2,3,4,5,6,7,8,9,0), len(letters)):\n",
    "        try: \n",
    "            if f(*digits):\n",
    "                \n",
    "                table = str.maketrans(letters, ''.join(map(str,digits)))\n",
    "                return formula.translate(table)\n",
    "\n",
    "        except ArithmeticError:\n",
    "            return False"
   ]
  },
  {
   "cell_type": "code",
   "execution_count": 33,
   "metadata": {
    "scrolled": true
   },
   "outputs": [
    {
     "data": {
      "text/plain": [
       "'3**2 + 04**2 == 05**2'"
      ]
     },
     "execution_count": 33,
     "metadata": {},
     "output_type": "execute_result"
    }
   ],
   "source": [
    "faster_solve('A**2 + BE**2 == BY**2')"
   ]
  },
  {
   "cell_type": "code",
   "execution_count": 37,
   "metadata": {},
   "outputs": [],
   "source": [
    "import time"
   ]
  },
  {
   "cell_type": "code",
   "execution_count": 34,
   "metadata": {},
   "outputs": [],
   "source": [
    "examples = '''TWO + TWO == FOUR\n",
    "A**2 + B**2 == C**2\n",
    "A**2 + BE**2 == BY**2\n",
    "X/X==X\n",
    "A**N + B**N  == C**N and N>1\n",
    "ATOM**0.5 == A + TO + M\n",
    "GLITTERS is not GOLD\n",
    "ONE < TWO and FOUR < FIVE\n",
    "ONE < TWO < THREE\n",
    "sum(range(AA))== BB\n",
    "sum(range(DAD))== BOBO\n",
    "ODD + ODD == EVEN\n",
    "RAMN == R**3 + RM**3 == N**3 + RX**3\n",
    "PLUTO not in set([PLANETS])'''.splitlines()  "
   ]
  },
  {
   "cell_type": "code",
   "execution_count": 40,
   "metadata": {},
   "outputs": [],
   "source": [
    "def timedcall(fn, *args):\n",
    "    t0 = time.clock()\n",
    "    result = fn(*args)\n",
    "    t1 = time.clock()\n",
    "    return t1-t0, result\n",
    "\n",
    "def test():\n",
    "    t0 = time.clock()\n",
    "    for example in examples:\n",
    "        print()\n",
    "        print(14*' ', example)\n",
    "        print('%6.4f sec:    %s '%timedcall(faster_solve, example))\n",
    "    print()\n",
    "    print('%6.4f tot.'%(time.clock()-t0))"
   ]
  },
  {
   "cell_type": "code",
   "execution_count": 41,
   "metadata": {},
   "outputs": [
    {
     "name": "stdout",
     "output_type": "stream",
     "text": [
      "\n",
      "               TWO + TWO == FOUR\n",
      "0.0134 sec:    357 + 357 == 0714 \n",
      "\n",
      "               A**2 + B**2 == C**2\n",
      "0.0003 sec:    3**2 + 4**2 == 5**2 \n",
      "\n",
      "               A**2 + BE**2 == BY**2\n",
      "0.0021 sec:    3**2 + 04**2 == 05**2 \n",
      "\n",
      "               X/X==X\n",
      "0.0001 sec:    1/1==1 \n",
      "\n",
      "               A**N + B**N  == C**N and N>1\n",
      "0.0015 sec:    3**2 + 4**2  == 5**2 and 2>1 \n",
      "\n",
      "               ATOM**0.5 == A + TO + M\n",
      "0.0003 sec:    1296**0.5 == 1 + 29 + 6 \n",
      "\n",
      "               GLITTERS is not GOLD\n",
      "0.0002 sec:    78655231 is not 7984 \n",
      "\n",
      "               ONE < TWO and FOUR < FIVE\n",
      "0.0003 sec:    093 < 760 and 2015 < 2843 \n",
      "\n",
      "               ONE < TWO < THREE\n",
      "0.0001 sec:    062 < 540 < 51322 \n",
      "\n",
      "               sum(range(AA))== BB\n",
      "0.0001 sec:    sum(range(11))== 55 \n",
      "\n",
      "               sum(range(DAD))== BOBO\n",
      "0.0390 sec:    None \n",
      "\n",
      "               ODD + ODD == EVEN\n",
      "0.0008 sec:    655 + 655 == 1310 \n",
      "\n",
      "               RAMN == R**3 + RM**3 == N**3 + RX**3\n",
      "0.0174 sec:    1729 == 1**3 + 12**3 == 9**3 + 10**3 \n",
      "\n",
      "               PLUTO not in set([PLANETS])\n",
      "0.0001 sec:    78239 not in set([7816534]) \n",
      "\n",
      "0.0783 tot.\n",
      "         20910 function calls (20864 primitive calls) in 0.053 seconds\n",
      "\n",
      "   Ordered by: standard name\n",
      "\n",
      "   ncalls  tottime  percall  cumtime  percall filename:lineno(function)\n",
      "      106    0.000    0.000    0.000    0.000 <ipython-input-17-f70f144fbcbc>:1(compile_word)\n",
      "       46    0.000    0.000    0.000    0.000 <ipython-input-17-f70f144fbcbc>:6(<listcomp>)\n",
      "       14    0.000    0.000    0.002    0.000 <ipython-input-28-53c8fdbc34e5>:1(compile_formula)\n",
      "       14    0.009    0.001    0.074    0.005 <ipython-input-32-57a14424d6d4>:1(faster_solve)\n",
      "       14    0.000    0.000    0.074    0.005 <ipython-input-40-7104dc35e1de>:1(timedcall)\n",
      "        1    0.000    0.000    0.076    0.076 <ipython-input-40-7104dc35e1de>:7(test)\n",
      "    13928    0.009    0.000    0.009    0.000 <string>:1(<lambda>)\n",
      "        1    0.000    0.000    0.076    0.076 <string>:1(<module>)\n",
      "      102    0.000    0.000    0.001    0.000 iostream.py:195(schedule)\n",
      "      101    0.000    0.000    0.000    0.000 iostream.py:300(_is_master_process)\n",
      "      101    0.000    0.000    0.000    0.000 iostream.py:313(_schedule_flush)\n",
      "      101    0.000    0.000    0.002    0.000 iostream.py:366(write)\n",
      "      102    0.000    0.000    0.000    0.000 iostream.py:93(_event_pipe)\n",
      "       14    0.000    0.000    0.000    0.000 re.py:204(split)\n",
      "       14    0.000    0.000    0.000    0.000 re.py:214(findall)\n",
      "       28    0.000    0.000    0.000    0.000 re.py:286(_compile)\n",
      "      102    0.001    0.000    0.001    0.000 socket.py:333(send)\n",
      "      102    0.000    0.000    0.000    0.000 threading.py:1062(_wait_for_tstate_lock)\n",
      "      102    0.000    0.000    0.000    0.000 threading.py:1104(is_alive)\n",
      "      102    0.000    0.000    0.000    0.000 threading.py:506(is_set)\n",
      "       14    0.001    0.000    0.001    0.000 {built-in method builtins.eval}\n",
      "        1    0.000    0.000    0.076    0.076 {built-in method builtins.exec}\n",
      "      101    0.000    0.000    0.000    0.000 {built-in method builtins.isinstance}\n",
      "       14    0.000    0.000    0.000    0.000 {built-in method builtins.len}\n",
      "       44    0.000    0.000    0.002    0.000 {built-in method builtins.print}\n",
      "     5044    0.032    0.000    0.032    0.000 {built-in method builtins.sum}\n",
      "       13    0.000    0.000    0.000    0.000 {built-in method maketrans}\n",
      "      101    0.000    0.000    0.000    0.000 {built-in method posix.getpid}\n",
      "       30    0.000    0.000    0.000    0.000 {built-in method time.clock}\n",
      "      102    0.000    0.000    0.000    0.000 {method 'acquire' of '_thread.lock' objects}\n",
      "      102    0.000    0.000    0.000    0.000 {method 'append' of 'collections.deque' objects}\n",
      "        1    0.000    0.000    0.000    0.000 {method 'disable' of '_lsprof.Profiler' objects}\n",
      "       14    0.000    0.000    0.000    0.000 {method 'findall' of '_sre.SRE_Pattern' objects}\n",
      "      106    0.000    0.000    0.000    0.000 {method 'isupper' of 'str' objects}\n",
      "   101/55    0.000    0.000    0.000    0.000 {method 'join' of 'str' objects}\n",
      "       14    0.000    0.000    0.000    0.000 {method 'split' of '_sre.SRE_Pattern' objects}\n",
      "       13    0.000    0.000    0.000    0.000 {method 'translate' of 'str' objects}\n",
      "\n",
      "\n"
     ]
    }
   ],
   "source": [
    "import cProfile\n",
    "\n",
    "cProfile.run('test()')  "
   ]
  },
  {
   "cell_type": "markdown",
   "metadata": {},
   "source": [
    "## No Leading Zeros"
   ]
  },
  {
   "cell_type": "code",
   "execution_count": 42,
   "metadata": {},
   "outputs": [],
   "source": [
    "def compile_formula(formula, verbose = False):\n",
    "    \n",
    "\n",
    "    letters = ''.join(set(re.findall('[A-Z]', formula)))\n",
    "    cap = set(re.findall(r'\\b([A-Z])', formula))\n",
    "\n",
    "    parms = ', '.join(letters)\n",
    "    tokens = map(compile_word, re.split('([A-Z]+)', formula))\n",
    "    _body = ''.join(tokens)\n",
    "    if cap:\n",
    "        added = ' and '.join( _ + ' != 0' for _ in cap)\n",
    "        body = '%s and (%s)' %(added, _body)\n",
    "    f = 'lambda %s: %s' %(parms, body)\n",
    "    if verbose: print(f)\n",
    "    return eval(f),letters"
   ]
  },
  {
   "cell_type": "code",
   "execution_count": 43,
   "metadata": {},
   "outputs": [
    {
     "name": "stdout",
     "output_type": "stream",
     "text": [
      "lambda E, D, V, N, O: E != 0 and O != 0 and ((1*D+10*D+100*O) + (1*D+10*D+100*O) == (1*N+10*E+100*V+1000*E))\n"
     ]
    },
    {
     "data": {
      "text/plain": [
       "(<function __main__.<lambda>(E, D, V, N, O)>, 'EDVNO')"
      ]
     },
     "execution_count": 43,
     "metadata": {},
     "output_type": "execute_result"
    }
   ],
   "source": [
    "compile_formula('ODD + ODD == EVEN', True)"
   ]
  },
  {
   "cell_type": "markdown",
   "metadata": {},
   "source": [
    "### whole code:"
   ]
  },
  {
   "cell_type": "code",
   "execution_count": 44,
   "metadata": {},
   "outputs": [
    {
     "name": "stdout",
     "output_type": "stream",
     "text": [
      "\n",
      "               TWO + TWO == FOUR\n",
      "0.0252 sec:    867 + 867 == 1734 \n",
      "\n",
      "                   A**2 + B**2 == C**2\n",
      "0.0004 sec:        3**2 + 4**2 == 5**2 \n",
      "\n",
      "                   A**2 + BE**2 == BY**2\n",
      "0.0025 sec:        5**2 + 12**2 == 13**2 \n",
      "\n",
      "                   X/X==X\n",
      "0.0001 sec:        1/1==1 \n",
      "\n",
      "                   A**N + B**N  == C**N and N>1\n",
      "0.0016 sec:        3**2 + 4**2  == 5**2 and 2>1 \n",
      "\n",
      "                   ATOM**0.5 == A + TO + M\n",
      "0.0003 sec:        1296**0.5 == 1 + 29 + 6 \n",
      "\n",
      "                   GLITTERS is not GOLD\n",
      "0.0001 sec:        78655231 is not 7984 \n",
      "\n",
      "                   ONE < TWO and FOUR < FIVE\n",
      "0.0002 sec:        703 < 867 and 2715 < 2943 \n",
      "\n",
      "                   ONE < TWO < THREE\n",
      "0.0002 sec:        572 < 645 < 61322 \n",
      "\n",
      "                   sum(range(AA))== BB\n",
      "0.0001 sec:        sum(range(11))== 55 \n",
      "\n",
      "                   sum(range(DAD))== BOBO\n",
      "0.0335 sec:    None \n",
      "\n",
      "                   ODD + ODD == EVEN\n",
      "0.0008 sec:        655 + 655 == 1310 \n",
      "\n",
      "                   RAMN == R**3 + RM**3 == N**3 + RX**3\n",
      "0.0161 sec:        1729 == 1**3 + 12**3 == 9**3 + 10**3 \n",
      "\n",
      "                   PLUTO not in set([PLANETS])\n",
      "0.0002 sec:        78239 not in set([7816534]) \n",
      "\n",
      "0.0835 tot.\n",
      "         36602 function calls (36556 primitive calls) in 0.060 seconds\n",
      "\n",
      "   Ordered by: standard name\n",
      "\n",
      "   ncalls  tottime  percall  cumtime  percall filename:lineno(function)\n",
      "      106    0.000    0.000    0.000    0.000 <ipython-input-44-9880fa65c5c4>:1(compile_word)\n",
      "       44    0.000    0.000    0.000    0.000 <ipython-input-44-9880fa65c5c4>:18(<genexpr>)\n",
      "       14    0.014    0.001    0.080    0.006 <ipython-input-44-9880fa65c5c4>:24(faster_solve)\n",
      "       46    0.000    0.000    0.000    0.000 <ipython-input-44-9880fa65c5c4>:4(<listcomp>)\n",
      "       14    0.000    0.000    0.080    0.006 <ipython-input-44-9880fa65c5c4>:54(timedcall)\n",
      "        1    0.000    0.000    0.082    0.082 <ipython-input-44-9880fa65c5c4>:60(test)\n",
      "       14    0.000    0.000    0.002    0.000 <ipython-input-44-9880fa65c5c4>:9(compile_formula)\n",
      "    30528    0.016    0.000    0.016    0.000 <string>:1(<lambda>)\n",
      "        1    0.000    0.000    0.082    0.082 <string>:1(<module>)\n",
      "      102    0.000    0.000    0.001    0.000 iostream.py:195(schedule)\n",
      "      101    0.000    0.000    0.000    0.000 iostream.py:300(_is_master_process)\n",
      "      101    0.000    0.000    0.000    0.000 iostream.py:313(_schedule_flush)\n",
      "      101    0.000    0.000    0.002    0.000 iostream.py:366(write)\n",
      "      102    0.000    0.000    0.000    0.000 iostream.py:93(_event_pipe)\n",
      "       14    0.000    0.000    0.000    0.000 re.py:204(split)\n",
      "       28    0.000    0.000    0.000    0.000 re.py:214(findall)\n",
      "       42    0.000    0.000    0.000    0.000 re.py:286(_compile)\n",
      "      102    0.001    0.000    0.001    0.000 socket.py:333(send)\n",
      "      102    0.000    0.000    0.000    0.000 threading.py:1062(_wait_for_tstate_lock)\n",
      "      102    0.000    0.000    0.000    0.000 threading.py:1104(is_alive)\n",
      "      102    0.000    0.000    0.000    0.000 threading.py:506(is_set)\n",
      "       14    0.001    0.000    0.001    0.000 {built-in method builtins.eval}\n",
      "        1    0.000    0.000    0.082    0.082 {built-in method builtins.exec}\n",
      "      101    0.000    0.000    0.000    0.000 {built-in method builtins.isinstance}\n",
      "       14    0.000    0.000    0.000    0.000 {built-in method builtins.len}\n",
      "       44    0.000    0.000    0.002    0.000 {built-in method builtins.print}\n",
      "     4036    0.026    0.000    0.026    0.000 {built-in method builtins.sum}\n",
      "       13    0.000    0.000    0.000    0.000 {built-in method maketrans}\n",
      "      101    0.000    0.000    0.000    0.000 {built-in method posix.getpid}\n",
      "       30    0.000    0.000    0.000    0.000 {built-in method time.clock}\n",
      "      102    0.000    0.000    0.000    0.000 {method 'acquire' of '_thread.lock' objects}\n",
      "      102    0.000    0.000    0.000    0.000 {method 'append' of 'collections.deque' objects}\n",
      "        1    0.000    0.000    0.000    0.000 {method 'disable' of '_lsprof.Profiler' objects}\n",
      "       28    0.000    0.000    0.000    0.000 {method 'findall' of '_sre.SRE_Pattern' objects}\n",
      "      106    0.000    0.000    0.000    0.000 {method 'isupper' of 'str' objects}\n",
      "   115/69    0.000    0.000    0.000    0.000 {method 'join' of 'str' objects}\n",
      "       14    0.000    0.000    0.000    0.000 {method 'split' of '_sre.SRE_Pattern' objects}\n",
      "       13    0.000    0.000    0.000    0.000 {method 'translate' of 'str' objects}\n",
      "\n",
      "\n"
     ]
    }
   ],
   "source": [
    "def compile_word(word):\n",
    "    \n",
    "    if word.isupper():\n",
    "        terms = [('%s*%s'%(10**i, w)) for i, w in enumerate(word[::-1])]\n",
    "        return '(' + '+'.join(terms) + ')'\n",
    "    else:\n",
    "        return word\n",
    "    \n",
    "def compile_formula(formula, verbose = False):\n",
    "\n",
    "    letters = ''.join(set(re.findall('[A-Z]', formula)))\n",
    "    cap = set(re.findall(r'\\b([A-Z])', formula))\n",
    "\n",
    "    parms = ', '.join(letters)\n",
    "    tokens = map(compile_word, re.split('([A-Z]+)', formula))\n",
    "    _body = ''.join(tokens)\n",
    "    if cap:\n",
    "        added = ' and '.join( _ + ' != 0' for _ in cap)\n",
    "        body = '%s and (%s)' %(added, _body)\n",
    "    f = 'lambda %s: %s' %(parms, body)\n",
    "    if verbose: print(f)\n",
    "    return eval(f),letters    \n",
    "\n",
    "def faster_solve(formula):\n",
    "    \n",
    "    f, letters = compile_formula(formula)\n",
    "    \n",
    "    for digits in itertools.permutations((1,2,3,4,5,6,7,8,9,0), len(letters)):\n",
    "        try: \n",
    "            if f(*digits):\n",
    "                \n",
    "                table = str.maketrans(letters, ''.join(map(str,digits)))\n",
    "                return formula.translate(table)\n",
    "\n",
    "        except ArithmeticError:\n",
    "            return False\n",
    "        \n",
    "if __name__ is '__main__':\n",
    "    \n",
    "    examples = '''TWO + TWO == FOUR\n",
    "    A**2 + B**2 == C**2\n",
    "    A**2 + BE**2 == BY**2\n",
    "    X/X==X\n",
    "    A**N + B**N  == C**N and N>1\n",
    "    ATOM**0.5 == A + TO + M\n",
    "    GLITTERS is not GOLD\n",
    "    ONE < TWO and FOUR < FIVE\n",
    "    ONE < TWO < THREE\n",
    "    sum(range(AA))== BB\n",
    "    sum(range(DAD))== BOBO\n",
    "    ODD + ODD == EVEN\n",
    "    RAMN == R**3 + RM**3 == N**3 + RX**3\n",
    "    PLUTO not in set([PLANETS])'''.splitlines()          \n",
    "\n",
    "    def timedcall(fn, *args):\n",
    "        t0 = time.clock()\n",
    "        result = fn(*args)\n",
    "        t1 = time.clock()\n",
    "        return t1-t0, result\n",
    "\n",
    "    def test():\n",
    "        t0 = time.clock()\n",
    "        for example in examples:\n",
    "            print()\n",
    "            print(14*' ', example)\n",
    "            print('%6.4f sec:    %s '%timedcall(faster_solve, example))\n",
    "        print()\n",
    "        print('%6.4f tot.'%(time.clock()-t0))\n",
    "        \n",
    "    import cProfile\n",
    "\n",
    "    cProfile.run('test()')  "
   ]
  },
  {
   "cell_type": "code",
   "execution_count": null,
   "metadata": {},
   "outputs": [],
   "source": []
  }
 ],
 "metadata": {
  "kernelspec": {
   "display_name": "Python 3",
   "language": "python",
   "name": "python3"
  },
  "language_info": {
   "codemirror_mode": {
    "name": "ipython",
    "version": 3
   },
   "file_extension": ".py",
   "mimetype": "text/x-python",
   "name": "python",
   "nbconvert_exporter": "python",
   "pygments_lexer": "ipython3",
   "version": "3.6.5"
  }
 },
 "nbformat": 4,
 "nbformat_minor": 2
}
